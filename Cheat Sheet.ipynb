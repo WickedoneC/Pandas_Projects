{
 "cells": [
  {
   "cell_type": "markdown",
   "metadata": {},
   "source": [
    "#### Selecting by row and column"
   ]
  },
  {
   "cell_type": "code",
   "execution_count": null,
   "metadata": {},
   "outputs": [],
   "source": [
    "# selects the 4th row\n",
    "df.iloc[3]"
   ]
  },
  {
   "cell_type": "code",
   "execution_count": null,
   "metadata": {},
   "outputs": [],
   "source": [
    "df.iloc[5:8]"
   ]
  },
  {
   "cell_type": "code",
   "execution_count": null,
   "metadata": {},
   "outputs": [],
   "source": [
    "# selects rows and columns\n",
    "df.iloc[:, 3:7]"
   ]
  },
  {
   "cell_type": "code",
   "execution_count": null,
   "metadata": {},
   "outputs": [],
   "source": [
    "df.iloc[5:10, 3:9]"
   ]
  },
  {
   "cell_type": "code",
   "execution_count": null,
   "metadata": {},
   "outputs": [],
   "source": [
    "# select columns based on row and column name\n",
    "df.loc[:, 'magnesium']"
   ]
  },
  {
   "cell_type": "code",
   "execution_count": null,
   "metadata": {},
   "outputs": [],
   "source": [
    "df.loc[7:16, 'magnesium']"
   ]
  },
  {
   "cell_type": "markdown",
   "metadata": {},
   "source": [
    "#### Selecting and Editing by Criteria"
   ]
  },
  {
   "cell_type": "code",
   "execution_count": null,
   "metadata": {},
   "outputs": [],
   "source": [
    "# selects based on conditional - boolean indexing\n",
    "df.loc[df['alcohol'] < 12]"
   ]
  },
  {
   "cell_type": "code",
   "execution_count": null,
   "metadata": {},
   "outputs": [],
   "source": [
    "# color intensity for alcohol less than 12\n",
    "df.loc[df['alcohol'] < 12, ['color_intensity']]"
   ]
  },
  {
   "cell_type": "code",
   "execution_count": null,
   "metadata": {},
   "outputs": [],
   "source": [
    "# sets all color intensity greater than 10 to 10\n",
    "df.loc[df['color_intensity'] > 10, 'color_intensity'] = 10"
   ]
  },
  {
   "cell_type": "code",
   "execution_count": null,
   "metadata": {},
   "outputs": [],
   "source": [
    "# creates new column named 'shade' and fills in values of either light or dark based on color intensity\n",
    "df.loc[df['color_intensity'] > 7, 'shade'] = 'dark'\n",
    "df.loc[df['color_intensity'] <= 7, 'shade'] = 'light'"
   ]
  },
  {
   "cell_type": "code",
   "execution_count": null,
   "metadata": {},
   "outputs": [],
   "source": [
    "# Print rows 5 through 9 and columns 'Home Team Name' and 'Away Team Name'\n",
    "df.loc[5:9,['Home Team Name', 'Away Team Name']]"
   ]
  },
  {
   "cell_type": "code",
   "execution_count": null,
   "metadata": {},
   "outputs": [],
   "source": [
    "# Print all info for games played in 1950 for Group 3\n",
    "df.loc[(df[\"Year\"] == 1950) & (df[\"Stage\"] == \"Group 3\")]"
   ]
  },
  {
   "cell_type": "code",
   "execution_count": null,
   "metadata": {},
   "outputs": [],
   "source": [
    "# Print the 'Attendance' column for games played in 1950 for Group 3\n",
    "df.loc[(df['Year'] == 1950) & (df['Stage'] == 'Group 3'), 'Attendance']"
   ]
  },
  {
   "cell_type": "code",
   "execution_count": null,
   "metadata": {},
   "outputs": [],
   "source": [
    "# Number of home games played by the Netherlands\n",
    "Neth_home = df[df['Home Team Name'] == ('Netherlands')]\n",
    "print(len(Neth_home))"
   ]
  },
  {
   "cell_type": "code",
   "execution_count": null,
   "metadata": {},
   "outputs": [],
   "source": [
    "# Number of games played by the Netherlands in total\n",
    "Neth_away = df[df['Away Team Name']==('Netherlands')]\n",
    "print(len(Neth_home)+len(Neth_away))"
   ]
  },
  {
   "cell_type": "code",
   "execution_count": null,
   "metadata": {},
   "outputs": [],
   "source": [
    "# Number of games the USA played in the 2014 world cup\n",
    "USA_home_and_away = df[(df['Year'] == 2014) &\n",
    "                       ((df['Home Team Name'] == 'USA') |\n",
    "                        (df['Away Team Name'] == 'USA'))]\n",
    "print(len(USA_home_and_away))"
   ]
  },
  {
   "cell_type": "code",
   "execution_count": null,
   "metadata": {},
   "outputs": [],
   "source": [
    "# Number of countries participated in the 1986 world cup\n",
    "games_86 = df[df['Year'] == 1986]\n",
    "home = list(games_86['Home Team Name'].unique())\n",
    "away = list(games_86['Away Team Name'].unique())\n",
    "print(len(home))\n",
    "home += away\n",
    "print(len(home))\n",
    "print(len(set(home)))"
   ]
  },
  {
   "cell_type": "code",
   "execution_count": null,
   "metadata": {},
   "outputs": [],
   "source": [
    "# Number of matches that had more than 5 goals in total\n",
    "df['Total_Goals'] = df['Home Team Goals'] + df['Away Team Goals']\n",
    "print(len(df[df['Total_Goals'] >= 5]))"
   ]
  },
  {
   "cell_type": "code",
   "execution_count": null,
   "metadata": {},
   "outputs": [],
   "source": [
    "# Create a new column 'Half-time Goals' in df\n",
    "df['Half-time Goals'] = df['Half-time Home Goals'] + df['Half-time Away Goals']"
   ]
  },
  {
   "cell_type": "code",
   "execution_count": null,
   "metadata": {},
   "outputs": [],
   "source": [
    "# Print all records containing the string 'Korea'\n",
    "df.loc[df['Home Team Name'].str.contains('Korea'), 'Home Team Name']"
   ]
  },
  {
   "cell_type": "code",
   "execution_count": null,
   "metadata": {},
   "outputs": [],
   "source": [
    "# Update the 'Home Team Name' and 'Home Team Initials' columns \n",
    "df.loc[df['Home Team Name'] == 'Korea DPR', 'Home Team Name'] = 'Korea'\n",
    "df.loc[df['Home Team Initials'] == 'KOR', 'Home Team Initials'] = 'NSK'\n",
    "\n",
    "# Check the updated columns\n",
    "df.loc[df['Home Team Name'].str.contains('Korea')]\n",
    "df.loc[df['Away Team Name'].str.contains('Korea')]"
   ]
  },
  {
   "cell_type": "markdown",
   "metadata": {},
   "source": [
    "#### Using Map, Apply, and Lambda Functions"
   ]
  },
  {
   "cell_type": "code",
   "execution_count": null,
   "metadata": {},
   "outputs": [],
   "source": [
    "# creates a new column based on criteria applied through a lambda function (instead of writing a sep. function)\n",
    "df['On_N_Line'] = df['LINENAME'].map(lambda x: 'N' in x)"
   ]
  },
  {
   "cell_type": "code",
   "execution_count": null,
   "metadata": {},
   "outputs": [],
   "source": [
    "# creates new column based on criteria\n",
    "# map function used on a function (contains_n is a function previously defined)\n",
    "df['On_N_Line'] = df['LINENAME'].map(contains_n)"
   ]
  },
  {
   "cell_type": "code",
   "execution_count": null,
   "metadata": {},
   "outputs": [],
   "source": [
    "# returns percentage of each value\n",
    "df['On_N_Line'].value_counts(normalize=True)"
   ]
  },
  {
   "cell_type": "code",
   "execution_count": null,
   "metadata": {},
   "outputs": [],
   "source": []
  },
  {
   "cell_type": "markdown",
   "metadata": {},
   "source": [
    "#### Cleaning Column Names"
   ]
  },
  {
   "cell_type": "code",
   "execution_count": null,
   "metadata": {},
   "outputs": [],
   "source": []
  },
  {
   "cell_type": "code",
   "execution_count": null,
   "metadata": {},
   "outputs": [],
   "source": []
  },
  {
   "cell_type": "markdown",
   "metadata": {},
   "source": [
    "#### Reformatting Column Types"
   ]
  },
  {
   "cell_type": "code",
   "execution_count": null,
   "metadata": {},
   "outputs": [],
   "source": [
    "print(df['ENTRIES'].dtype) # check an individual column type rather then all \n",
    "\n",
    "df['ENTRIES'] = df['ENTRIES'].astype(float) # changing the column to float/etc\n",
    "\n",
    "df['ENTRIES'] = df['ENTRIES'].astype(int) # changing the column to float/etc"
   ]
  },
  {
   "cell_type": "code",
   "execution_count": null,
   "metadata": {},
   "outputs": [],
   "source": [
    "# attempting to convert a string column to int or float will produce errors if there are actually \n",
    "# non-numeric characters\n",
    "df['LINENAME'] = df['LINENAME'].astype(int)"
   ]
  },
  {
   "cell_type": "markdown",
   "metadata": {},
   "source": [
    "#### Converting Dates"
   ]
  },
  {
   "cell_type": "code",
   "execution_count": null,
   "metadata": {},
   "outputs": [],
   "source": []
  }
 ],
 "metadata": {
  "kernelspec": {
   "display_name": "Python 3",
   "language": "python",
   "name": "python3"
  },
  "language_info": {
   "codemirror_mode": {
    "name": "ipython",
    "version": 3
   },
   "file_extension": ".py",
   "mimetype": "text/x-python",
   "name": "python",
   "nbconvert_exporter": "python",
   "pygments_lexer": "ipython3",
   "version": "3.7.4"
  }
 },
 "nbformat": 4,
 "nbformat_minor": 4
}
