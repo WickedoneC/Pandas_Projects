{
 "cells": [
  {
   "cell_type": "code",
   "execution_count": null,
   "metadata": {},
   "outputs": [],
   "source": [
    "import pandas as pd\n",
    "from bs4 import BeautifulSoup as bs\n",
    "import requests\n",
    "\n",
    "import time"
   ]
  },
  {
   "cell_type": "code",
   "execution_count": null,
   "metadata": {},
   "outputs": [],
   "source": []
  },
  {
   "cell_type": "code",
   "execution_count": null,
   "metadata": {},
   "outputs": [],
   "source": [
    "# need to get page numbers"
   ]
  },
  {
   "cell_type": "code",
   "execution_count": null,
   "metadata": {},
   "outputs": [],
   "source": [
    "import time\n",
    "# url = 'https://markets.businessinsider.com/bonds/finder?p=1&borrower=&maturity=&yield=&bondtype=6,7,8,19&coupon=&currency=&rating=&country=18'\n",
    "url_list = []\n",
    "page_list = []\n",
    "status_code = []\n",
    "data_list = []\n",
    "for thing in range (1, final page number):\n",
    "    url = f'https://markets.businessinsider.com/bonds/finder?p={thing}&borrower=&maturity=&yield=&bondtype=6,7,8,19&coupon=&currency=&rating=&country=18'\n",
    "    url_list.append(url)\n",
    "    page = requests.get(url)\n",
    "    page_list.append(page)\n",
    "    psc = page.status_code\n",
    "    status_code.append(psc)\n",
    "    data = pd.read_html(page.content)\n",
    "    data_list.append(data)\n",
    "    \n",
    "    time.sleep(30)\n"
   ]
  }
 ],
 "metadata": {
  "kernelspec": {
   "display_name": "Python 3",
   "language": "python",
   "name": "python3"
  },
  "language_info": {
   "codemirror_mode": {
    "name": "ipython",
    "version": 3
   },
   "file_extension": ".py",
   "mimetype": "text/x-python",
   "name": "python",
   "nbconvert_exporter": "python",
   "pygments_lexer": "ipython3",
   "version": "3.7.4"
  }
 },
 "nbformat": 4,
 "nbformat_minor": 4
}
