{
 "cells": [
  {
   "cell_type": "code",
   "execution_count": null,
   "metadata": {},
   "outputs": [],
   "source": [
    "# need to import the russell data to get ticker list"
   ]
  },
  {
   "cell_type": "code",
   "execution_count": 1,
   "metadata": {},
   "outputs": [],
   "source": [
    "import pandas as pd\n",
    "from bs4 import BeautifulSoup as bs\n",
    "import requests\n",
    "\n",
    "import time"
   ]
  },
  {
   "cell_type": "code",
   "execution_count": null,
   "metadata": {},
   "outputs": [],
   "source": [
    "tickers = read_excel('')"
   ]
  },
  {
   "cell_type": "code",
   "execution_count": null,
   "metadata": {},
   "outputs": [],
   "source": []
  },
  {
   "cell_type": "code",
   "execution_count": null,
   "metadata": {},
   "outputs": [],
   "source": [
    "\n",
    "# url = 'https://finance.yahoo.com/quote/MS/key-statistics?p=MS'\n",
    "url_list = []\n",
    "page_list = []\n",
    "status_code = []\n",
    "data_list = []\n",
    "ticker_list = list of tickers taken from russell 1000 excel sheet\n",
    "for thing in ticker_list:\n",
    "    url = f'https://finance.yahoo.com/quote/{thing}/key-statistics?p=MS'\n",
    "    url_list.append(url)\n",
    "    page = requests.get(url)\n",
    "    page_list.append(page)\n",
    "    psc = page.status_code\n",
    "    status_code.append(psc)\n",
    "    data = pd.read_html(page.content)\n",
    "    data_list.append(data)\n",
    "    \n",
    "    time.sleep(30)\n"
   ]
  }
 ],
 "metadata": {
  "kernelspec": {
   "display_name": "Python 3",
   "language": "python",
   "name": "python3"
  },
  "language_info": {
   "codemirror_mode": {
    "name": "ipython",
    "version": 3
   },
   "file_extension": ".py",
   "mimetype": "text/x-python",
   "name": "python",
   "nbconvert_exporter": "python",
   "pygments_lexer": "ipython3",
   "version": "3.7.4"
  }
 },
 "nbformat": 4,
 "nbformat_minor": 4
}
